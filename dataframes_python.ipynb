{
 "cells": [
  {
   "cell_type": "code",
   "execution_count": null,
   "metadata": {},
   "outputs": [],
   "source": [
    "import os\n",
    "import sys\n",
    "import pandas as pd\n",
    "import numpy as np\n",
    "from datetime import date\n",
    "import matplotlib.pyplot as plt\n",
    "import math"
   ]
  },
  {
   "cell_type": "code",
   "execution_count": null,
   "metadata": {},
   "outputs": [],
   "source": [
    "os.getcwd()"
   ]
  },
  {
   "cell_type": "code",
   "execution_count": null,
   "metadata": {},
   "outputs": [],
   "source": [
    "os.chdir('C:/Users/FGetachew/jupyter_workspace/bwt')"
   ]
  },
  {
   "cell_type": "code",
   "execution_count": null,
   "metadata": {},
   "outputs": [],
   "source": [
    "df = pd.read_csv('view_tpgs_farmer_bodyweight_combine.csv')"
   ]
  },
  {
   "cell_type": "code",
   "execution_count": null,
   "metadata": {},
   "outputs": [],
   "source": [
    "df"
   ]
  },
  {
   "cell_type": "code",
   "execution_count": null,
   "metadata": {},
   "outputs": [],
   "source": [
    "type(df)"
   ]
  },
  {
   "cell_type": "markdown",
   "metadata": {},
   "source": [
    "*Exploring the data*"
   ]
  },
  {
   "cell_type": "code",
   "execution_count": null,
   "metadata": {},
   "outputs": [],
   "source": [
    "#see largest maximum number of columns with head\n",
    "pd.set_option('display.max_columns', 500)"
   ]
  },
  {
   "cell_type": "code",
   "execution_count": null,
   "metadata": {},
   "outputs": [],
   "source": [
    "df.columns"
   ]
  },
  {
   "cell_type": "code",
   "execution_count": null,
   "metadata": {},
   "outputs": [],
   "source": [
    "df.head(50)"
   ]
  },
  {
   "cell_type": "code",
   "execution_count": null,
   "metadata": {},
   "outputs": [],
   "source": [
    "df.tail()"
   ]
  },
  {
   "cell_type": "code",
   "execution_count": null,
   "metadata": {},
   "outputs": [],
   "source": [
    "df.sample(5) # draw a random number of 5 rows from the dataset"
   ]
  },
  {
   "cell_type": "code",
   "execution_count": null,
   "metadata": {},
   "outputs": [],
   "source": [
    "df.index"
   ]
  },
  {
   "cell_type": "code",
   "execution_count": null,
   "metadata": {},
   "outputs": [],
   "source": [
    "#more information about the data type and memory it used e.g. 2.6GB\n",
    "df.info(verbose = False)\n",
    "#df.info()"
   ]
  },
  {
   "cell_type": "code",
   "execution_count": null,
   "metadata": {},
   "outputs": [],
   "source": [
    "df.describe()"
   ]
  },
  {
   "cell_type": "code",
   "execution_count": null,
   "metadata": {},
   "outputs": [],
   "source": [
    "df[['adminlevel1_name']].describe()"
   ]
  },
  {
   "cell_type": "code",
   "execution_count": null,
   "metadata": {},
   "outputs": [],
   "source": [
    "df.shape\n",
    "#len(df)"
   ]
  },
  {
   "cell_type": "code",
   "execution_count": null,
   "metadata": {},
   "outputs": [],
   "source": [
    "df[['adminlevel1_name', 'adminlevel2_name', 'adminlevel3_name','adminlevel4_name']]"
   ]
  },
  {
   "cell_type": "code",
   "execution_count": null,
   "metadata": {
    "scrolled": true
   },
   "outputs": [],
   "source": [
    "df.info()"
   ]
  },
  {
   "cell_type": "code",
   "execution_count": null,
   "metadata": {},
   "outputs": [],
   "source": [
    "df.columns"
   ]
  },
  {
   "cell_type": "code",
   "execution_count": null,
   "metadata": {},
   "outputs": [],
   "source": [
    "#subsetting a dataframe\n",
    "df[df.columns[5:10]]"
   ]
  },
  {
   "cell_type": "code",
   "execution_count": null,
   "metadata": {},
   "outputs": [],
   "source": [
    "#subsetting a dataframe\n",
    "#df[df.columns[5:10]]\n",
    "df[df.columns[-5:]] #last five columns"
   ]
  },
  {
   "cell_type": "code",
   "execution_count": null,
   "metadata": {},
   "outputs": [],
   "source": [
    "df.select_dtypes?"
   ]
  },
  {
   "cell_type": "markdown",
   "metadata": {},
   "source": [
    "# Data wrangling"
   ]
  },
  {
   "cell_type": "markdown",
   "metadata": {},
   "source": []
  },
  {
   "cell_type": "code",
   "execution_count": null,
   "metadata": {},
   "outputs": [],
   "source": [
    "df = df[df['country_name'] == 'Ethiopia']\n",
    "# df = df[df['farmer_introbirdstrainname'] == 'SASSO']\n",
    "\n",
    "df.shape"
   ]
  },
  {
   "cell_type": "code",
   "execution_count": null,
   "metadata": {},
   "outputs": [],
   "source": [
    "df = df[[\n",
    "    'farmer_introbirdstrainname',\n",
    "    'form_datecollection',\n",
    "    'farmer_introbirdstrain_hatchdate',\n",
    "    'adminlevel1_name',\n",
    "    'adminlevel2_name', \n",
    "    'adminlevel3_name', \n",
    "    'adminlevel4_name',\n",
    "    'farmer_fullname',\n",
    "    'introbirds_ageindays',\n",
    "    'introbirds_ageinweeks',\n",
    "    'introduced_all_count',\t\n",
    "    'introduced_all_weight', \n",
    "    'introduced_male_count', \n",
    "    'introduced_male_weight', \n",
    "    'introduced_female_count',\t\n",
    "    'introduced_female_weight'\n",
    "]]"
   ]
  },
  {
   "cell_type": "code",
   "execution_count": null,
   "metadata": {},
   "outputs": [],
   "source": [
    "display(df[df.duplicated()].shape)\n",
    "df.drop_duplicates(inplace=True)\n",
    "display(df[df.duplicated()].shape)\n",
    "display(df.shape)"
   ]
  },
  {
   "cell_type": "code",
   "execution_count": null,
   "metadata": {},
   "outputs": [],
   "source": [
    "df = df.drop(df[df['farmer_fullname'].isna()].index)"
   ]
  },
  {
   "cell_type": "code",
   "execution_count": null,
   "metadata": {
    "scrolled": true
   },
   "outputs": [],
   "source": [
    "df.insert(loc=0, column='farmer_id', value=df.set_index([\n",
    "    'adminlevel1_name',\n",
    "    'adminlevel2_name', \n",
    "    'adminlevel3_name', \n",
    "    'adminlevel4_name',\n",
    "    'farmer_fullname',\n",
    "]).index.factorize()[0]+1)\n",
    "\n",
    "df['farmer_id'].unique().shape"
   ]
  },
  {
   "cell_type": "code",
   "execution_count": null,
   "metadata": {},
   "outputs": [],
   "source": [
    "df['c_age_in_days'] = (df['form_datecollection'].astype('datetime64[ns]') - df['farmer_introbirdstrain_hatchdate'].astype('datetime64[ns]')).dt.days\n",
    "df[df['c_age_in_days'] != df['introbirds_ageindays']].shape"
   ]
  },
  {
   "cell_type": "code",
   "execution_count": null,
   "metadata": {},
   "outputs": [],
   "source": [
    "both_empty = df[\n",
    "    (df['introduced_male_weight'] == 0) &\n",
    "    (df['introduced_female_weight'] == 0)\n",
    "]\n",
    "\n",
    "df = df.drop(both_empty.index, axis=0)"
   ]
  },
  {
   "cell_type": "code",
   "execution_count": null,
   "metadata": {},
   "outputs": [],
   "source": [
    "# Drop Empty in introbirds_ageindays\n",
    "df = df.drop(df[df['introbirds_ageindays'].isnull()].index, axis=0)\n",
    "df = df.drop(df[df['introbirds_ageindays'] < 0].index, axis=0)\n",
    "\n",
    "df.shape"
   ]
  },
  {
   "cell_type": "code",
   "execution_count": null,
   "metadata": {},
   "outputs": [],
   "source": [
    "df['intor_male_avg'] = df['introduced_male_weight'] / df['introduced_male_count']\n",
    "df['intor_female_avg'] = df['introduced_female_weight'] / df['introduced_female_count']"
   ]
  },
  {
   "cell_type": "code",
   "execution_count": null,
   "metadata": {},
   "outputs": [],
   "source": [
    "df.groupby('introbirds_ageinweeks').size().plot(kind=\"bar\",figsize=(27, 10))"
   ]
  },
  {
   "cell_type": "code",
   "execution_count": null,
   "metadata": {},
   "outputs": [],
   "source": [
    "df[['introbirds_ageinweeks', 'introduced_female_weight']]['introbirds_ageinweeks'].max()"
   ]
  },
  {
   "cell_type": "code",
   "execution_count": null,
   "metadata": {},
   "outputs": [],
   "source": [
    "display(df['intor_male_avg'].describe())\n",
    "display(df['intor_female_avg'].describe())"
   ]
  },
  {
   "cell_type": "code",
   "execution_count": null,
   "metadata": {},
   "outputs": [],
   "source": [
    "# Remove average body weight not in between 40 & 4000\n",
    "\n",
    "min_body_weight = 40\n",
    "max_body_weight = 4000\n",
    "\n",
    "m_err = df[\n",
    "    (df['intor_male_avg'] < min_body_weight) |\n",
    "    (df['intor_male_avg'] > max_body_weight)\n",
    "]\n",
    "\n",
    "display(m_err.shape)\n",
    "df = df.drop(m_err.index, axis=0)\n",
    "\n",
    "\n",
    "f_err = df[\n",
    "    (df['intor_female_avg'] < min_body_weight) |\n",
    "    (df['intor_female_avg'] > max_body_weight)\n",
    "]\n",
    "\n",
    "display(f_err.shape)\n",
    "df = df.drop(f_err.index, axis=0)"
   ]
  },
  {
   "cell_type": "code",
   "execution_count": null,
   "metadata": {},
   "outputs": [],
   "source": [
    "display(df['intor_male_avg'].describe())\n",
    "display(df['intor_female_avg'].describe())"
   ]
  },
  {
   "cell_type": "code",
   "execution_count": null,
   "metadata": {},
   "outputs": [],
   "source": [
    "# Duplicate rows\n",
    "df_duplicates = df[df.duplicated(['farmer_id', 'introbirds_ageindays'], keep=False)].sort_values('farmer_id')\n",
    "\n",
    "display(df_duplicates.shape)\n",
    "df_duplicates.to_csv('./duplicates.csv')"
   ]
  },
  {
   "cell_type": "code",
   "execution_count": null,
   "metadata": {},
   "outputs": [],
   "source": [
    "# Take rows with max chicken count\n",
    "\n",
    "df['total_chicken_count'] = df['introduced_male_count'] + df['introduced_female_count']\n",
    "df_groups = df.groupby(['farmer_id', 'farmer_fullname', 'introbirds_ageindays'])\n",
    "df_groups.size().plot(kind='hist')"
   ]
  },
  {
   "cell_type": "code",
   "execution_count": null,
   "metadata": {},
   "outputs": [],
   "source": [
    "df_groups_max = df_groups.max('total_chicken_count')\n",
    "# df_clean = df_groups_max.reset_index().drop('total_chicken_count', axis=1)\n",
    "df_clean = df_groups_max.reset_index()"
   ]
  },
  {
   "cell_type": "code",
   "execution_count": null,
   "metadata": {},
   "outputs": [],
   "source": [
    "# df_clean[df_clean.duplicated(['farmer_id', 'introbirds_ageinweeks'])]"
   ]
  },
  {
   "cell_type": "code",
   "execution_count": null,
   "metadata": {},
   "outputs": [],
   "source": [
    "# Max week/range => 88 / 3 week\n",
    "\n",
    "df_dist = df_clean\n",
    "\n",
    "week_diff =  math.floor(\n",
    "    (df_dist['introbirds_ageinweeks'].max() - df_dist['introbirds_ageinweeks'].min()) / 6\n",
    ")\n",
    "\n",
    "# ranges = (range(\n",
    "#     int(df['introbirds_ageinweeks'].min()), \n",
    "#     int(df['introbirds_ageinweeks'].max()) + week_diff, \n",
    "#     week_diff\n",
    "# ))\n",
    "ranges = [8, 12, 16, 20]\n",
    "\n",
    "\n",
    "# Week diffrence\n",
    "display(week_diff)\n",
    "display(ranges)\n",
    "df_dist.groupby(pd.cut(df_dist['introbirds_ageinweeks'], ranges)).size().plot(kind=\"bar\")"
   ]
  },
  {
   "cell_type": "code",
   "execution_count": null,
   "metadata": {},
   "outputs": [],
   "source": [
    "c = df.groupby(['farmer_id', 'total_chicken_count'])\n",
    "c.size().plot(kind='hist')"
   ]
  },
  {
   "cell_type": "code",
   "execution_count": null,
   "metadata": {},
   "outputs": [],
   "source": [
    "# Number of chicken in a given week\n",
    "# df_dist.groupby(\n",
    "#     pd.cut(df_dist['introbirds_ageinweeks'], ranges), \n",
    "#     as_index=False)['total_chicken_count'].agg(['size', 'sum']).plot(kind='bar',x='introbirds_ageinweeks', y='sum')\n",
    "df_dist.groupby(\n",
    "    pd.cut(df_dist['introbirds_ageinweeks'], ranges), \n",
    "    as_index=False)['total_chicken_count'].agg(['size', 'sum']).plot(kind='bar',x='introbirds_ageinweeks', y='sum')"
   ]
  },
  {
   "cell_type": "code",
   "execution_count": null,
   "metadata": {},
   "outputs": [],
   "source": [
    "# Male count\n",
    "df_dist.groupby(\n",
    "    pd.cut(df_dist['introbirds_ageinweeks'], ranges), \n",
    "    as_index=False)['introduced_male_count'].agg(['size', 'sum']).plot(kind='bar',x='introbirds_ageinweeks', y='sum')\n",
    "\n",
    "# Male count\n",
    "df_dist.groupby(\n",
    "    pd.cut(df_dist['introbirds_ageinweeks'], ranges), \n",
    "    as_index=False)['introduced_female_count'].agg(['size', 'sum']).plot(kind='bar',x='introbirds_ageinweeks', y='sum')"
   ]
  },
  {
   "cell_type": "code",
   "execution_count": null,
   "metadata": {},
   "outputs": [],
   "source": [
    "df_dist.groupby('introbirds_ageinweeks', \n",
    "    as_index=False)['introduced_female_count'].agg(['size', 'sum']).plot(kind='bar',x='introbirds_ageinweeks', y='sum')\n"
   ]
  },
  {
   "cell_type": "code",
   "execution_count": null,
   "metadata": {},
   "outputs": [],
   "source": [
    "# Average body weight\n",
    "df_dist.groupby(\n",
    "    pd.cut(df_dist['introbirds_ageinweeks'], ranges), \n",
    "    as_index=False)['intor_male_avg'].agg(['size', 'mean']).plot(kind='line',x='introbirds_ageinweeks', y='mean')\n",
    "\n",
    "df_dist.groupby(\n",
    "    pd.cut(df_dist['introbirds_ageinweeks'], ranges), \n",
    "    as_index=False)['intor_female_avg'].agg(['size', 'mean']).plot(kind='line',x='introbirds_ageinweeks', y='mean')"
   ]
  },
  {
   "cell_type": "code",
   "execution_count": null,
   "metadata": {},
   "outputs": [],
   "source": [
    "pd.pivot(\n",
    "    df_clean, \n",
    "    index=['farmer_id'], \n",
    "    columns=[\"introbirds_ageindays\"], \n",
    "    values=['introduced_male_count', 'introduced_male_weight']\n",
    "    )"
   ]
  },
  {
   "cell_type": "code",
   "execution_count": null,
   "metadata": {},
   "outputs": [],
   "source": [
    "# df_duplicates = df[df.duplicated([\n",
    "#     'country_name',\n",
    "#     'adminlevel1_name',\n",
    "#     'adminlevel2_name', \n",
    "#     'adminlevel3_name', \n",
    "#     'adminlevel4_name',\n",
    "#     'farmer_fullname', \n",
    "#     'introbirds_ageinweeks'])]\n",
    "\n",
    "# df_duplicates\n",
    "\n",
    "# df[df.duplicated([\n",
    "#     'farmer_fullname', \n",
    "#     'introbirds_ageinweeks'])][['farmer_fullname', 'introbirds_ageinweeks']].head(40)\n"
   ]
  },
  {
   "cell_type": "code",
   "execution_count": null,
   "metadata": {},
   "outputs": [],
   "source": [
    "# df_duplicates[df_duplicates['introduced_male_count'] == 0]"
   ]
  },
  {
   "cell_type": "code",
   "execution_count": null,
   "metadata": {},
   "outputs": [],
   "source": [
    "# df[df.duplicated([\n",
    "#     'adminlevel1_name',\n",
    "#     'adminlevel2_name', \n",
    "#     'adminlevel3_name', \n",
    "#     'adminlevel4_name', \n",
    "#     'farmer_fullname', \n",
    "#     'introbirds_ageinweeks',\n",
    "#     'farmer_introbirdstrain'])]['farmer_fullname'].unique().shape"
   ]
  },
  {
   "cell_type": "code",
   "execution_count": null,
   "metadata": {},
   "outputs": [],
   "source": [
    "# # Total Duplicates\n",
    "# display(df[df.duplicated()].shape)\n",
    "\n",
    "# df.drop_duplicates(inplace=True)\n",
    "\n",
    "# display(df[df.duplicated()].shape)"
   ]
  },
  {
   "cell_type": "code",
   "execution_count": null,
   "metadata": {},
   "outputs": [],
   "source": [
    "# display(df[df.duplicated(['farmer_code', 'introbirds_ageinweeks'])].shape)\n",
    "# display(df[df.duplicated(['farmer_code', 'introbirds_ageinweeks', 'introduced_male_weight'])].shape)\n",
    "# display(df[df.duplicated(['farmer_code', 'introbirds_ageinweeks', 'introduced_male_count'])].shape)"
   ]
  },
  {
   "cell_type": "code",
   "execution_count": null,
   "metadata": {},
   "outputs": [],
   "source": [
    "# df[df.duplicated(['farmer_code', 'introbirds_ageinweeks'])]['farmer_code'].unique()\n",
    "\n"
   ]
  },
  {
   "cell_type": "code",
   "execution_count": null,
   "metadata": {},
   "outputs": [],
   "source": [
    "# df_weight = pd.pivot(df, index=['farmer_code'], columns=\"introbirds_ageinweeks\", values='introduced_male_weight')"
   ]
  },
  {
   "cell_type": "code",
   "execution_count": null,
   "metadata": {},
   "outputs": [],
   "source": []
  }
 ],
 "metadata": {
  "kernelspec": {
   "display_name": "Python 3 (ipykernel)",
   "language": "python",
   "name": "python3"
  },
  "language_info": {
   "codemirror_mode": {
    "name": "ipython",
    "version": 3
   },
   "file_extension": ".py",
   "mimetype": "text/x-python",
   "name": "python",
   "nbconvert_exporter": "python",
   "pygments_lexer": "ipython3",
   "version": "3.10.14"
  }
 },
 "nbformat": 4,
 "nbformat_minor": 4
}
